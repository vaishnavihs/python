{
 "cells": [
  {
   "cell_type": "markdown",
   "metadata": {},
   "source": [
    "<h1>Python: without numpy or sklearn </h1>"
   ]
  },
  {
   "cell_type": "markdown",
   "metadata": {},
   "source": [
    "<h3> Q1: Given two matrices please print the product of those two matrices </h3>\n",
    "<pre>\n",
    "\n",
    "Ex 1: A   = [[1 3 4]\n",
    "             [2 5 7]\n",
    "             [5 9 6]]\n",
    "      B   = [[1 0 0]\n",
    "             [0 1 0]\n",
    "             [0 0 1]]\n",
    "      A*B = [[1 3 4]\n",
    "             [2 5 7]\n",
    "             [5 9 6]]\n",
    "\n",
    "     \n",
    "Ex 2: A   = [[1 2]\n",
    "             [3 4]]\n",
    "      B   = [[1 2 3 4 5]\n",
    "             [5 6 7 8 9]]\n",
    "      A*B = [[11 14 17 20 23]\n",
    "             [18 24 30 36 42]]\n",
    "             \n",
    "Ex 3: A   = [[1 2]\n",
    "             [3 4]]\n",
    "      B   = [[1 4]\n",
    "             [5 6]\n",
    "             [7 8]\n",
    "             [9 6]]\n",
    "      A*B =Not possible\n",
    "</pre>"
   ]
  },
  {
   "cell_type": "code",
   "execution_count": 66,
   "metadata": {},
   "outputs": [],
   "source": [
    "def matrix_mul(A, B):\n",
    "    if len(A[0])==len(B):\n",
    "        res=[[0 for y in range(len(B[0]))] for v in range(len(A))]\n",
    "        for v in range(len(A)): \n",
    "            for y in range(len(B[0])): \n",
    "                for n in range(len(B)): \n",
    "                    res[v][y] += A[v][n] * B[n][y] \n",
    "        return res\n",
    "    else:\n",
    "        print(\"Not Possible\")\n",
    "    "
   ]
  },
  {
   "cell_type": "code",
   "execution_count": 94,
   "metadata": {},
   "outputs": [
    {
     "data": {
      "text/plain": [
       "[[1, 3, 4], [2, 5, 7], [5, 9, 6]]"
      ]
     },
     "execution_count": 94,
     "metadata": {},
     "output_type": "execute_result"
    }
   ],
   "source": [
    "A=[[1,3,4],[2,5,7],[5,9,6]]\n",
    "B=[[1,0,0],[0,1,0],[0,0,1]]\n",
    "matrix_mul(A, B)\n"
   ]
  },
  {
   "cell_type": "code",
   "execution_count": 95,
   "metadata": {},
   "outputs": [
    {
     "data": {
      "text/plain": [
       "[[11, 14, 17, 20, 23], [23, 30, 37, 44, 51]]"
      ]
     },
     "execution_count": 95,
     "metadata": {},
     "output_type": "execute_result"
    }
   ],
   "source": [
    "A=[[1,2],[3,4]]\n",
    "B=[[1,2,3,4,5],[5,6,7,8,9]]\n",
    "matrix_mul(A, B)"
   ]
  },
  {
   "cell_type": "code",
   "execution_count": 96,
   "metadata": {},
   "outputs": [
    {
     "name": "stdout",
     "output_type": "stream",
     "text": [
      "Not Possible\n"
     ]
    }
   ],
   "source": [
    "A = [[1,2],[3,4]]\n",
    "B = [[1,4],[5,6],[7,8],[9,6]]\n",
    "matrix_mul(A, B)"
   ]
  },
  {
   "cell_type": "markdown",
   "metadata": {},
   "source": [
    "<h3> Q2: Select a number randomly with probability proportional to its magnitude from the given array of n elements</h3>\n",
    "\n",
    "consider an experiment, selecting an element from the list A randomly with probability proportional to its magnitude.\n",
    "assume we are doing the same experiment for 100 times with replacement, in each experiment you will print a number that is selected randomly from A.\n",
    "\n",
    "<pre>\n",
    "Ex 1: A = [0 5 27 6 13 28 100 45 10 79]\n",
    "let f(x) denote the number of times x getting selected in 100 experiments.\n",
    "f(100) > f(79) > f(45) > f(28) > f(27) > f(13) > f(10) > f(6) > f(5) > f(0)\n",
    "</pre>"
   ]
  },
  {
   "cell_type": "code",
   "execution_count": 74,
   "metadata": {},
   "outputs": [
    {
     "name": "stdout",
     "output_type": "stream",
     "text": [
      "[100, 100, 79, 79, 100, 79, 28, 27, 79, 100, 79, 100, 79, 100, 100, 79, 100, 45, 100, 79, 45, 79, 100, 27, 13, 28, 100, 100, 28, 100, 100, 13, 100, 45, 100, 79, 79, 100, 79, 79, 45, 100, 27, 79, 10, 27, 79, 100, 28, 100, 45, 100, 45, 100, 45, 6, 27, 13, 45, 27, 100, 27, 27, 100, 79, 79, 100, 13, 100, 79, 28, 27, 100, 13, 100, 100, 79, 100, 100, 45, 100, 79, 79, 100, 100, 5, 100, 79, 100, 45, 28, 79, 45, 79, 10, 45, 100, 100, 100]\n"
     ]
    }
   ],
   "source": [
    "from random import uniform\n",
    "\n",
    "def pick_a_number_from_list(A,W_Cumlative,u):\n",
    "    for i in range(len(W_Cumlative)):\n",
    "        if u < W_Cumlative[i]:\n",
    "            return A[i]\n",
    "\n",
    "def sampling_based_on_magnitued():\n",
    "    A = [0,5,27,6,13,28,100,45,10,79]\n",
    "    W=[i/sum(A) for i in A]\n",
    "    W_Cumlative=[sum(W[:i]) for i in range(1,len(W)+1)]\n",
    "    numbers=[]\n",
    "    for i in range(1,100):\n",
    "        u=uniform(0.0,1.0)\n",
    "        number = pick_a_number_from_list(A,W_Cumlative,u)\n",
    "        numbers.append(number)\n",
    "    print(numbers)\n",
    "    '''print(\"100->\",numbers.count(100))\n",
    "    print(\"79->\",numbers.count(79))\n",
    "    print(\"45->\",numbers.count(45))\n",
    "    print(\"28->\",numbers.count(28))\n",
    "    print(\"27->\",numbers.count(27))\n",
    "    print(\"13->\",numbers.count(13))\n",
    "    print(\"10->\",numbers.count(10))\n",
    "    print(\"6->\",numbers.count(6))\n",
    "    print(\"5->\",numbers.count(5))\n",
    "    print(\"0->\",numbers.count(0))'''\n",
    "    \n",
    "\n",
    "sampling_based_on_magnitued()"
   ]
  },
  {
   "cell_type": "markdown",
   "metadata": {},
   "source": [
    "<h3> Q3: Replace the digits in the string with #</h3>\n",
    "\n",
    "Consider a string that will have digits in that, we need to remove all the characters which are not digits and replace the digits with #\n",
    "<pre>\n",
    "Ex 1: A = 234                Output: ###\n",
    "Ex 2: A = a2b3c4             Output: ###\n",
    "Ex 3: A = abc                Output:   (empty string)\n",
    "Ex 5: A = #2a$#b%c%561#      Output: ####\n",
    "</pre>"
   ]
  },
  {
   "cell_type": "code",
   "execution_count": 7,
   "metadata": {},
   "outputs": [],
   "source": [
    "def replace_digits(String):\n",
    "    res=''\n",
    "    for v in String:\n",
    "        if v.isalpha():\n",
    "            pass\n",
    "        elif v.isdigit():\n",
    "            res+='#'\n",
    "    return res"
   ]
  },
  {
   "cell_type": "code",
   "execution_count": 8,
   "metadata": {},
   "outputs": [
    {
     "data": {
      "text/plain": [
       "'###'"
      ]
     },
     "execution_count": 8,
     "metadata": {},
     "output_type": "execute_result"
    }
   ],
   "source": [
    "replace_digits('243')"
   ]
  },
  {
   "cell_type": "code",
   "execution_count": 9,
   "metadata": {},
   "outputs": [
    {
     "data": {
      "text/plain": [
       "'###'"
      ]
     },
     "execution_count": 9,
     "metadata": {},
     "output_type": "execute_result"
    }
   ],
   "source": [
    "replace_digits('a2b3c4')"
   ]
  },
  {
   "cell_type": "code",
   "execution_count": 101,
   "metadata": {},
   "outputs": [
    {
     "data": {
      "text/plain": [
       "'####'"
      ]
     },
     "execution_count": 101,
     "metadata": {},
     "output_type": "execute_result"
    }
   ],
   "source": [
    "replace_digits('#2a$#b%c%561#')"
   ]
  },
  {
   "cell_type": "markdown",
   "metadata": {},
   "source": [
    "# <h3> Q4: Students marks dashboard</h3>\n",
    "\n",
    "Consider the marks list of class students given in two lists <br>\n",
    "Students = ['student1','student2','student3','student4','student5','student6','student7','student8','student9','student10'] <br>\n",
    "Marks = [45, 78, 12, 14, 48, 43, 45, 98, 35, 80] <br>\n",
    "from the above two lists the Student[0] got Marks[0],  Student[1] got Marks[1] and so on. <br><br>\n",
    "\n",
    "Your task is to print the name of students\n",
    "\n",
    "<strong>a. Who got top 5 ranks, in the descending order of marks</strong> <br>\n",
    "<strong>b. Who got least 5 ranks, in the increasing order of marks</strong><br>\n",
    "<strong>d. Who got marks between  &gt;25th percentile &lt;75th percentile, in the increasing order of marks.</strong>\n",
    "\n",
    "<pre>\n",
    "Ex 1: \n",
    "Students=['student1','student2','student3','student4','student5','student6','student7','student8','student9','student10'] \n",
    "Marks = [45, 78, 12, 14, 48, 43, 47, 98, 35, 80]\n",
    "\n",
    "a. \n",
    "student8  98\n",
    "student10 80\n",
    "student2  78\n",
    "student5  48\n",
    "student7  47\n",
    "\n",
    "b.\n",
    "student3 12\n",
    "student4 14\n",
    "student9 35\n",
    "student6 43\n",
    "student1 45\n",
    "\n",
    "c.\n",
    "student9 35\n",
    "student6 43\n",
    "student1 45\n",
    "student7 47\n",
    "student5 48\n",
    "</pre>"
   ]
  },
  {
   "cell_type": "code",
   "execution_count": 13,
   "metadata": {},
   "outputs": [
    {
     "name": "stdout",
     "output_type": "stream",
     "text": [
      "top 5 ranks:  [('student8', 98), ('student10', 80), ('student2', 78), ('student5', 48), ('student7', 45)]\n",
      "least 5 ranks:  [('student3', 12), ('student4', 14), ('student9', 35), ('student6', 43), ('student1', 45)]\n"
     ]
    }
   ],
   "source": [
    "def display_dash_board(students, marks):\n",
    "    for i in range(1, len(marks)):\n",
    "        student_marks = marks[i]\n",
    "        student_name = students[i]\n",
    "        j = i - 1\n",
    "        while j >= 0 and marks[j] > student_marks:\n",
    "            marks[j + 1] = marks[j]\n",
    "            students[j+1]= students[j]\n",
    "            j -= 1\n",
    "        marks[j + 1] = student_marks\n",
    "        students[j+1]= student_name\n",
    "    n=len(marks)\n",
    "    top_5_students = [(students[i], marks[i]) for i in range(n-1,n-6,-1)]\n",
    "    least_5_students = [(students[i],marks[i]) for i in range(5)]\n",
    "    #students_within_25_and_75 = [(s,m) for s,m in zip(students,marks) if (m > 25 and m < 75)]\n",
    "    return top_5_students, least_5_students\n",
    "students = ['student1','student2','student3','student4','student5','student6','student7','student8','student9','student10'] \n",
    "marks = [45, 78, 12, 14, 48, 43, 45, 98, 35, 80]\n",
    "top_5_students, least_5_students = display_dash_board(students, marks)\n",
    "print(\"top 5 ranks: \",top_5_students)\n",
    "print(\"least 5 ranks: \",least_5_students)"
   ]
  },
  {
   "cell_type": "code",
   "execution_count": 73,
   "metadata": {},
   "outputs": [
    {
     "name": "stdout",
     "output_type": "stream",
     "text": [
      "students between 25 and 75 is\n",
      "student1,45\n",
      "student5,48\n",
      "student6,43\n",
      "student7,47\n",
      "student9,35\n"
     ]
    }
   ],
   "source": [
    "import numpy as np\n",
    "students = ['student1','student2','student3','student4','student5','student6','student7','student8','student9','student10'] \n",
    "marks = [45, 78, 12, 14, 48, 43, 47, 98, 35, 80]\n",
    "print(\"students between 25 and 75 is\")\n",
    "n = marks[i]\n",
    "a= len(marks)\n",
    "for i in range(a):\n",
    "    p= int(n/4) if (n/4).is_integer() else int(n/4) + 1\n",
    "    q= int(3*n/4) # as we want <75th percentile\n",
    "   \n",
    "def between_25_and_75(students,marks):\n",
    "    a= len(marks)\n",
    "    for i in range(a):\n",
    "        if marks[i]>p and marks[i]<q:\n",
    "            print(students[i]+\",\"+str(marks[i]))\n",
    "            \n",
    "between_25_and_75(students,marks)\n",
    "\n"
   ]
  },
  {
   "cell_type": "markdown",
   "metadata": {},
   "source": [
    "# Q5: Find the closest points</h3>\n",
    "\n",
    "Consider you are given n data points in the form of list of tuples like S=[(x1,y1),(x2,y2),(x3,y3),(x4,y4),(x5,y5),..,(xn,yn)] and a point P=(p,q) <br> your task is to find 5 closest points(based on cosine distance) in S from P\n",
    "\n",
    "<br>Cosine distance between two points (x,y) and (p,q) is defined as $cos^{-1}(\\frac{(x\\cdot p+y\\cdot q)}{\\sqrt(x^2+y^2)\\cdot\\sqrt(p^2+q^2)})$\n",
    "<pre>\n",
    "Ex:\n",
    "\n",
    "S= [(1,2),(3,4),(-1,1),(6,-7),(0, 6),(-5,-8),(-1,-1)(6,0),(1,-1)]\n",
    "P= (3,-4)\n",
    "<img src='https://i.imgur.com/vIFPOcG.jpg', width=300>\n",
    "Output:\n",
    "(6,-7)\n",
    "(1,-1)\n",
    "(6,0)\n",
    "(-5,-8)\n",
    "(-1,-1)\n",
    "</pre>"
   ]
  },
  {
   "cell_type": "code",
   "execution_count": 2,
   "metadata": {},
   "outputs": [
    {
     "name": "stdout",
     "output_type": "stream",
     "text": [
      "(6, -7)\n",
      "(-5, -8)\n",
      "(-1, -1)\n",
      "(6, 0)\n",
      "(1, -1)\n"
     ]
    }
   ],
   "source": [
    "import math\n",
    "import statistics\n",
    "\n",
    "def closest_points_to_p(S, P):\n",
    "    m = []\n",
    "    i = []\n",
    "    n = len(S)\n",
    "    for i in range(n):\n",
    "        a = S[i][0]\n",
    "        b = S[i][1]\n",
    "        c = P[0]\n",
    "        d = P[1]\n",
    "        p = math.sqrt(a**2+b**2)\n",
    "        q = math.sqrt(c**2+d**2)\n",
    "        sol = math.acos((a*c+b*d)/(p*q))\n",
    "        m.append(sol)\n",
    "    return m\n",
    "   \n",
    "S = [(1,2),(3,4),(-1,1),(6,-7),(0, 6),(-5,-8),(-1,-1),(6,0),(1,-1)]\n",
    "P = (3,-4)\n",
    "points = closest_points_to_p(S, P)\n",
    "#print(points)\n",
    "med=statistics.median(points)\n",
    "#print(med)\n",
    "w = []\n",
    "for i in range(0,len(points)):\n",
    "    if points[i]<=med:\n",
    "        w.append(i)\n",
    "for i in range(0,len(w)):\n",
    "    print(S[w[i]])\n"
   ]
  },
  {
   "cell_type": "markdown",
   "metadata": {},
   "source": [
    "<h3> Q6: Find which line separates oranges and apples</h3>\n",
    "\n",
    "Consider you are given two set of data points in the form of list of tuples like \n",
    "<pre>\n",
    "Red =[(R11,R12),(R21,R22),(R31,R32),(R41,R42),(R51,R52),..,(Rn1,Rn2)]\n",
    "Blue=[(B11,B12),(B21,B22),(B31,B32),(B41,B42),(B51,B52),..,(Bm1,Bm2)]\n",
    "</pre>\n",
    "and set of line equations(in the string format, i.e list of strings)\n",
    "<pre>\n",
    "Lines = [a1x+b1y+c1,a2x+b2y+c2,a3x+b3y+c3,a4x+b4y+c4,..,K lines]\n",
    "Note: You need to do string parsing here and get the coefficients of x,y and intercept.\n",
    "</pre>\n",
    "Your task here is to print \"YES\"/\"NO\" for each line given. You should print YES, if all the red points are one side of the line and blue points are on other side of the line, otherwise you should print NO.\n",
    "<pre>\n",
    "Ex:\n",
    "Red= [(1,1),(2,1),(4,2),(2,4), (-1,4)]\n",
    "Blue= [(-2,-1),(-1,-2),(-3,-2),(-3,-1),(1,-3)]\n",
    "Lines=[\"1x+1y+0\",\"1x-1y+0\",\"1x+0y-3\",\"0x+1y-0.5\"]\n",
    "<img src='https://i.imgur.com/DoQf7mE.jpg' width=400>\n",
    "Output:\n",
    "YES\n",
    "NO\n",
    "NO\n",
    "YES\n",
    "</pre>"
   ]
  },
  {
   "cell_type": "code",
   "execution_count": 104,
   "metadata": {},
   "outputs": [
    {
     "name": "stdout",
     "output_type": "stream",
     "text": [
      "YES\n",
      "NO\n",
      "NO\n",
      "YES\n"
     ]
    }
   ],
   "source": [
    "import math\n",
    "import re\n",
    "\n",
    "def i_am_the_one(red,blue,line):\n",
    "    for i in red:\n",
    "        eqn=line.replace('x','*'+str(i[0]))\n",
    "        eqn=eqn.replace('y','*'+str(i[1]))\n",
    "        if eval(eqn) > 0:\n",
    "            pass\n",
    "        else:\n",
    "            return \"NO\"\n",
    "    for i in blue:\n",
    "        eqn=line.replace('x','*'+str(i[0]))\n",
    "        eqn=eqn.replace('y','*'+str(i[1]))\n",
    "        if eval(eqn) < 0:\n",
    "            pass\n",
    "        else:\n",
    "            return \"NO\"\n",
    "    return \"YES\"\n",
    "\n",
    "Red= [(1,1),(2,1),(4,2),(2,4), (-1,4)]\n",
    "Blue= [(-2,-1),(-1,-2),(-3,-2),(-3,-1),(1,-3)]\n",
    "Lines=[\"1x+1y+0\",\"1x-1y+0\",\"1x+0y-3\",\"0x+1y-0.5\"]\n",
    "\n",
    "for i in Lines:\n",
    "    yes_or_no = i_am_the_one(Red, Blue, i)\n",
    "    print(yes_or_no)"
   ]
  },
  {
   "cell_type": "markdown",
   "metadata": {},
   "source": [
    "# Q7: Filling the missing values in the specified format\n",
    "\n",
    "You will be given a string with digits and '_'(missing value) symbols you have to replace the '_' symbols as explained\n",
    "Ex 1: _, _, _, 24 ==> 24/4, 24/4, 24/4, 24/4 i.e we. have distributed the 24 equally to all 4 places \n",
    "\n",
    "Ex 2: 40, _, _, _, 60 ==> (60+40)/5,(60+40)/5,(60+40)/5,(60+40)/5,(60+40)/5 ==> 20, 20, 20, 20, 20 i.e. the sum of (60+40) is distributed qually to all 5 places\n",
    "\n",
    "Ex 3: 80, _, _, _, _  ==> 80/5,80/5,80/5,80/5,80/5 ==> 16, 16, 16, 16, 16 i.e. the 80 is distributed qually to all 5 missing values that are right to it\n",
    "\n",
    "Ex 4: _, _, 30, _, _, _, 50, _, _  \n",
    "==> we will fill the missing values from left to right \n",
    "    a. first we will distribute the 30 to left two missing values (10, 10, 10, _, _, _, 50, _, _)\n",
    "    b. now distribute the sum (10+50) missing values in between (10, 10, 12, 12, 12, 12, 12, _, _) \n",
    "    c. now we will distribute 12 to right side missing values (10, 10, 12, 12, 12, 12, 4, 4, 4)"
   ]
  },
  {
   "cell_type": "raw",
   "metadata": {},
   "source": [
    "for a given string with comma seprate values, which will have both missing values numbers like ex: \"_, _, x, _, _, _\" you need fill the missing values\n",
    "Q: your program reads a string like ex: \"_, _, x, _, _, _\" and returns the filled sequence\n",
    "Ex:\n",
    "Input1: \"_,_,_,24\"\n",
    "Output1: 6,6,6,6\n",
    "\n",
    "Input2: \"40,_,_,_,60\"\n",
    "Output2: 20,20,20,20,20\n",
    "\n",
    "Input3: \"80,_,_,_,_\"\n",
    "Output3: 16,16,16,16,16\n",
    "\n",
    "Input4: \"_,_,30,_,_,_,50,_,_\"\n",
    "Output4: 10,10,12,12,12,12,4,4,4"
   ]
  },
  {
   "cell_type": "code",
   "execution_count": 105,
   "metadata": {},
   "outputs": [
    {
     "name": "stdout",
     "output_type": "stream",
     "text": [
      "[10, 10, 12, 12, 12, 12, 4, 4, 4]\n"
     ]
    }
   ],
   "source": [
    "def populateNumbers(num_list, i, j):\n",
    "    if i == -1:\n",
    "        num = float(num_list[j])/(j+1)\n",
    "        for n in range(i+1,j+1):\n",
    "            num_list[n] = num\n",
    "    elif j == -1:\n",
    "        num = float(num_list[i])/(len(num_list)-i)\n",
    "        for n in range(i, len(num_list)):\n",
    "            num_list[n] = num\n",
    "    else:\n",
    "        num = (float(num_list[i])+float(num_list[j]))/(j-i+1)\n",
    "        for n in range(i,j+1):\n",
    "            num_list[n] = num\n",
    "    return num_list\n",
    "def curve_smoothing(string):\n",
    "    num_list = string.replace(\" \",\"\").split(\",\")\n",
    "    cur_list = [i for i, v in enumerate(num_list) if v != '_']\n",
    "    if cur_list[0] != 0:\n",
    "        cur_list = [-1] + cur_list\n",
    "    if cur_list[-1] != len(num_list)-1:\n",
    "        cur_list = cur_list + [-1]    \n",
    "    for (i, j) in zip(cur_list[:-1], cur_list[1:]): \n",
    "        populateNumbers(num_list,i,j)          \n",
    "    return [int(v) for v in num_list]\n",
    "\n",
    "S=  \"_,_,30,_,_,_,50,_,_\"\n",
    "smoothed_values= curve_smoothing(S)\n",
    "print(smoothed_values)"
   ]
  },
  {
   "cell_type": "code",
   "execution_count": 106,
   "metadata": {},
   "outputs": [
    {
     "name": "stdout",
     "output_type": "stream",
     "text": [
      "[6, 6, 6, 6]\n"
     ]
    }
   ],
   "source": [
    "S= \" _, _, _, 24\"\n",
    "smoothed_values= curve_smoothing(S)\n",
    "print(smoothed_values)\n"
   ]
  },
  {
   "cell_type": "code",
   "execution_count": 107,
   "metadata": {},
   "outputs": [
    {
     "name": "stdout",
     "output_type": "stream",
     "text": [
      "[20, 20, 20, 20, 20]\n"
     ]
    }
   ],
   "source": [
    "S = \"40,_,_,_,60\"\n",
    "smoothed_values= curve_smoothing(S)\n",
    "print(smoothed_values)"
   ]
  },
  {
   "cell_type": "code",
   "execution_count": 108,
   "metadata": {},
   "outputs": [
    {
     "name": "stdout",
     "output_type": "stream",
     "text": [
      "[16, 16, 16, 16, 16]\n"
     ]
    }
   ],
   "source": [
    "S = \"80,_,_,_,_\"\n",
    "smoothed_values= curve_smoothing(S)\n",
    "print(smoothed_values)"
   ]
  },
  {
   "cell_type": "code",
   "execution_count": 109,
   "metadata": {},
   "outputs": [
    {
     "name": "stdout",
     "output_type": "stream",
     "text": [
      "[10, 10, 12, 12, 12, 12, 4, 4, 4]\n"
     ]
    }
   ],
   "source": [
    "S = \"_,_,30,_,_,_,50,_,_\"\n",
    "smoothed_values= curve_smoothing(S)\n",
    "print(smoothed_values)"
   ]
  },
  {
   "cell_type": "markdown",
   "metadata": {},
   "source": [
    "<h3> Q8: Find the probabilities</h3>\n",
    "\n",
    "You will be given a list of lists, each sublist will be of length 2 i.e. [[x,y],[p,q],[l,m]..[r,s]]\n",
    "consider its like a martrix of n rows and two columns\n",
    "1. The first column F will contain only 5 uniques values (F1, F2, F3, F4, F5)\n",
    "2. The second column S will contain only 3 uniques values (S1, S2, S3)\n",
    "<pre>\n",
    "your task is to find\n",
    "a. Probability of P(F=F1|S==S1), P(F=F1|S==S2), P(F=F1|S==S3)\n",
    "b. Probability of P(F=F2|S==S1), P(F=F2|S==S2), P(F=F2|S==S3)\n",
    "c. Probability of P(F=F3|S==S1), P(F=F3|S==S2), P(F=F3|S==S3)\n",
    "d. Probability of P(F=F4|S==S1), P(F=F4|S==S2), P(F=F4|S==S3)\n",
    "e. Probability of P(F=F5|S==S1), P(F=F5|S==S2), P(F=F5|S==S3)\n",
    "</pre>\n",
    "Ex:\n",
    "\n",
    "<pre>\n",
    "[[F1,S1],[F2,S2],[F3,S3],[F1,S2],[F2,S3],[F3,S2],[F2,S1],[F4,S1],[F4,S3],[F5,S1]]\n",
    "\n",
    "a. P(F=F1|S==S1)=1/4, P(F=F1|S==S2)=1/3, P(F=F1|S==S3)=0/3\n",
    "b. P(F=F2|S==S1)=1/4, P(F=F2|S==S2)=1/3, P(F=F2|S==S3)=1/3\n",
    "c. P(F=F3|S==S1)=0/4, P(F=F3|S==S2)=1/3, P(F=F3|S==S3)=1/3\n",
    "d. P(F=F4|S==S1)=1/4, P(F=F4|S==S2)=0/3, P(F=F4|S==S3)=1/3\n",
    "e. P(F=F5|S==S1)=1/4, P(F=F5|S==S2)=0/3, P(F=F5|S==S3)=0/3\n",
    "</pre>\n",
    "\n"
   ]
  },
  {
   "cell_type": "code",
   "execution_count": 110,
   "metadata": {},
   "outputs": [
    {
     "name": "stdout",
     "output_type": "stream",
     "text": [
      "{'F1S1': 0.25, 'F1S2': 0.3333333333333333, 'F1S3': 0.0, 'F2S1': 0.25, 'F2S2': 0.3333333333333333, 'F2S3': 0.3333333333333333, 'F3S1': 0.0, 'F3S2': 0.3333333333333333, 'F3S3': 0.3333333333333333, 'F4S1': 0.25, 'F4S2': 0.0, 'F4S3': 0.3333333333333333, 'F5S1': 0.25, 'F5S2': 0.0, 'F5S3': 0.0}\n"
     ]
    }
   ],
   "source": [
    "def compute_conditional_probabilites(A):\n",
    "    FS_combinations = {\n",
    "    'F1S1': 0,'F1S2': 0,'F1S3': 0,\n",
    "    'F2S1': 0,'F2S2': 0,'F2S3': 0,\n",
    "    'F3S1': 0,'F3S2': 0,'F3S3': 0,\n",
    "    'F4S1': 0,'F4S2': 0,'F4S3': 0,\n",
    "    'F5S1': 0,'F5S2': 0,'F5S3': 0,\n",
    "    }\n",
    "\n",
    "    S_appeared = { 'S1': 0,'S2': 0,'S3': 0 }\n",
    "\n",
    "    for i in range(len(A)):\n",
    "        key = A[i][0] + A[i][1]\n",
    "        FS_combinations[key] += 1\n",
    "        S_appeared[A[i][1]] += 1\n",
    "        \n",
    "    for fs in FS_combinations:\n",
    "        for s in S_appeared:\n",
    "            if s in fs:\n",
    "                FS_combinations[fs]=FS_combinations[fs]/S_appeared[s]\n",
    "    return FS_combinations\n",
    "    \n",
    "A = [['F1', 'S1'], ['F2', 'S2'], ['F3', 'S3'], ['F1', 'S2'], ['F2', 'S3'], ['F3', 'S2'], ['F2', 'S1'], ['F4', 'S1'], ['F4', 'S3'], ['F5', 'S1']]\n",
    "print(compute_conditional_probabilites(A))"
   ]
  },
  {
   "cell_type": "markdown",
   "metadata": {},
   "source": [
    "<h3> Q9: Operations on sentences </h3>\n",
    "\n",
    "You will be given two sentances S1, S2 your task is to find \n",
    "<pre>\n",
    "a. Number of common words between S1, S2\n",
    "b. Words in S1 but not in S2\n",
    "c. Words in S2 but not in S1\n",
    "</pre>\n",
    "\n",
    "Ex: \n",
    "<pre>\n",
    "S1= \"the first column F will contain only 5 unique values\"\n",
    "S2= \"the second column S will contain only 3 unique values\"\n",
    "Output:\n",
    "a. 7\n",
    "b. ['first','F','5']\n",
    "c. ['second','S','3']\n",
    "</pre>"
   ]
  },
  {
   "cell_type": "code",
   "execution_count": 111,
   "metadata": {},
   "outputs": [
    {
     "name": "stdout",
     "output_type": "stream",
     "text": [
      "7 ['first', '5'] ['second', 'S', '3']\n"
     ]
    }
   ],
   "source": [
    "def string_features(S1, S2):\n",
    "    S1=S1.split()\n",
    "    S2=S2.split()\n",
    "    a=[(i) for i in S1 if i in S2]\n",
    "    a=len(a)\n",
    "    b=[(i) for i in S1 if i not in S2]\n",
    "    c=[(i) for i in S2 if i not in S1]\n",
    "    return a, b, c\n",
    "\n",
    "\n",
    "S1= \"the first column  will contain only 5 uniques values\"\n",
    "S2= \"the second column S will contain only 3 uniques values\"\n",
    "a,b,c = string_features(S1, S2)\n",
    "print(a,b,c)"
   ]
  },
  {
   "cell_type": "markdown",
   "metadata": {},
   "source": [
    "<h3> Q10: Error Function</h3>\n",
    "\n",
    "You will be given a list of lists, each sublist will be of length 2 i.e. [[x,y],[p,q],[l,m]..[r,s]]\n",
    "consider its like a martrix of n rows and two columns\n",
    "\n",
    "a. the first column Y will contain interger values <br>\n",
    "b. the second column $Y_{score}$ will be having float values <br>\n",
    "Your task is to find the value of $f(Y,Y_{score}) = -1*\\frac{1}{n}\\Sigma_{for each Y,Y_{score} pair}(Ylog10(Y_{score})+(1-Y)log10(1-Y_{score}))$ here n is the number of rows in the matrix\n",
    "<pre>\n",
    "Ex:\n",
    "[[1, 0.4], [0, 0.5], [0, 0.9], [0, 0.3], [0, 0.6], [1, 0.1], [1, 0.9], [1, 0.8]]\n",
    "output:\n",
    "0.44982\n",
    "</pre>\n",
    "$\\frac{-1}{8}\\cdot((1\\cdot log_{10}(0.4)+0\\cdot log_{10}(0.6))+(0\\cdot log_{10}(0.5)+1\\cdot log_{10}(0.5)) + ... + (1\\cdot log_{10}(0.8)+0\\cdot log_{10}(0.2)) )$"
   ]
  },
  {
   "cell_type": "code",
   "execution_count": 112,
   "metadata": {},
   "outputs": [
    {
     "name": "stdout",
     "output_type": "stream",
     "text": [
      "0.42430993457031635\n"
     ]
    }
   ],
   "source": [
    "import math\n",
    "def compute_log_loss(A):\n",
    "    loss = 0\n",
    "    for i in range(0,len(A)):\n",
    "        loss = loss+A[i][0]*(math.log(A[i][1],10))+((1-A[i][0])*(math.log(1-A[i][1],10)))\n",
    "    return loss\n",
    "A = [[1, 0.4], [0, 0.5], [0, 0.9], [0, 0.3], [0, 0.6], [1, 0.1], [1, 0.9], [1, 0.8]]\n",
    "loss = compute_log_loss(A)\n",
    "loss = -(loss/len(A))\n",
    "print(loss)"
   ]
  }
 ],
 "metadata": {
  "kernelspec": {
   "display_name": "Python 3",
   "language": "python",
   "name": "python3"
  },
  "language_info": {
   "codemirror_mode": {
    "name": "ipython",
    "version": 3
   },
   "file_extension": ".py",
   "mimetype": "text/x-python",
   "name": "python",
   "nbconvert_exporter": "python",
   "pygments_lexer": "ipython3",
   "version": "3.6.5"
  }
 },
 "nbformat": 4,
 "nbformat_minor": 2
}
